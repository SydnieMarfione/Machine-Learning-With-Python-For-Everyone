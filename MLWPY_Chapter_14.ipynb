{
 "cells": [
  {
   "cell_type": "code",
   "execution_count": 167,
   "id": "aacb7c69",
   "metadata": {},
   "outputs": [
    {
     "name": "stdout",
     "output_type": "stream",
     "text": [
      "Requirement already satisfied: scikit-learn in ./opt/anaconda3/lib/python3.9/site-packages (1.0.2)\r\n",
      "Requirement already satisfied: joblib>=0.11 in ./opt/anaconda3/lib/python3.9/site-packages (from scikit-learn) (1.1.0)\r\n",
      "Requirement already satisfied: numpy>=1.14.6 in ./opt/anaconda3/lib/python3.9/site-packages (from scikit-learn) (1.21.6)\r\n",
      "Requirement already satisfied: scipy>=1.1.0 in ./opt/anaconda3/lib/python3.9/site-packages (from scikit-learn) (1.9.1)\r\n",
      "Requirement already satisfied: threadpoolctl>=2.0.0 in ./opt/anaconda3/lib/python3.9/site-packages (from scikit-learn) (2.2.0)\r\n"
     ]
    }
   ],
   "source": [
    "from sklearn import datasets\n",
    "import pandas as pd\n",
    "import numpy as np\n",
    "import seaborn as sns\n",
    "import sklearn.datasets as datasets\n",
    "import sklearn.model_selection as skms\n",
    "import matplotlib.pyplot as plt\n",
    "import numpy as np\n",
    "import pandas as pd\n",
    "import seaborn as sns\n",
    "from sklearn.preprocessing import StandardScaler\n",
    "import sklearn.preprocessing as skpre\n",
    "from sklearn import linear_model\n",
    "import textwrap\n",
    "\n",
    "!pip install scikit-learn"
   ]
  },
  {
   "cell_type": "code",
   "execution_count": 168,
   "id": "05b5d096",
   "metadata": {},
   "outputs": [],
   "source": [
    "import warnings\n",
    "warnings.simplefilter(action='ignore', category=FutureWarning)"
   ]
  },
  {
   "cell_type": "code",
   "execution_count": 169,
   "id": "5256a534",
   "metadata": {},
   "outputs": [],
   "source": [
    "docs = [\"the cat in the hat\",\n",
    "       'the cow jumped over the moon',\n",
    "       'the cat mooed and the cow meowed',\n",
    "       'the cat said to the cow cow you are not a cat']"
   ]
  },
  {
   "cell_type": "code",
   "execution_count": 170,
   "id": "90a2fbd8",
   "metadata": {},
   "outputs": [],
   "source": [
    "vocabulary = set(' '.join(docs).split())"
   ]
  },
  {
   "cell_type": "code",
   "execution_count": 171,
   "id": "0a205e73",
   "metadata": {},
   "outputs": [
    {
     "name": "stdout",
     "output_type": "stream",
     "text": [
      "{'said', 'jumped', 'you', 'cat', 'over', 'not', 'mooed', 'hat', 'cow',\n",
      "'moon', 'meowed'}\n"
     ]
    }
   ],
   "source": [
    "common_words = set(['a', 'to', 'the', 'in', 'and', 'are'])\n",
    "vocabulary = vocabulary - common_words\n",
    "print(textwrap.fill(str(vocabulary)))"
   ]
  },
  {
   "cell_type": "code",
   "execution_count": 172,
   "id": "1ff00c97",
   "metadata": {},
   "outputs": [
    {
     "data": {
      "text/html": [
       "<div>\n",
       "<style scoped>\n",
       "    .dataframe tbody tr th:only-of-type {\n",
       "        vertical-align: middle;\n",
       "    }\n",
       "\n",
       "    .dataframe tbody tr th {\n",
       "        vertical-align: top;\n",
       "    }\n",
       "\n",
       "    .dataframe thead th {\n",
       "        text-align: right;\n",
       "    }\n",
       "</style>\n",
       "<table border=\"1\" class=\"dataframe\">\n",
       "  <thead>\n",
       "    <tr style=\"text-align: right;\">\n",
       "      <th></th>\n",
       "      <th>said</th>\n",
       "      <th>jumped</th>\n",
       "      <th>you</th>\n",
       "      <th>cat</th>\n",
       "      <th>over</th>\n",
       "      <th>not</th>\n",
       "      <th>mooed</th>\n",
       "      <th>hat</th>\n",
       "      <th>cow</th>\n",
       "      <th>moon</th>\n",
       "      <th>meowed</th>\n",
       "    </tr>\n",
       "  </thead>\n",
       "  <tbody>\n",
       "    <tr>\n",
       "      <th>0</th>\n",
       "      <td>False</td>\n",
       "      <td>False</td>\n",
       "      <td>False</td>\n",
       "      <td>True</td>\n",
       "      <td>False</td>\n",
       "      <td>False</td>\n",
       "      <td>False</td>\n",
       "      <td>True</td>\n",
       "      <td>False</td>\n",
       "      <td>False</td>\n",
       "      <td>False</td>\n",
       "    </tr>\n",
       "    <tr>\n",
       "      <th>1</th>\n",
       "      <td>False</td>\n",
       "      <td>True</td>\n",
       "      <td>False</td>\n",
       "      <td>False</td>\n",
       "      <td>True</td>\n",
       "      <td>False</td>\n",
       "      <td>False</td>\n",
       "      <td>False</td>\n",
       "      <td>True</td>\n",
       "      <td>True</td>\n",
       "      <td>False</td>\n",
       "    </tr>\n",
       "    <tr>\n",
       "      <th>2</th>\n",
       "      <td>False</td>\n",
       "      <td>False</td>\n",
       "      <td>False</td>\n",
       "      <td>True</td>\n",
       "      <td>False</td>\n",
       "      <td>False</td>\n",
       "      <td>True</td>\n",
       "      <td>False</td>\n",
       "      <td>True</td>\n",
       "      <td>False</td>\n",
       "      <td>True</td>\n",
       "    </tr>\n",
       "    <tr>\n",
       "      <th>3</th>\n",
       "      <td>True</td>\n",
       "      <td>False</td>\n",
       "      <td>True</td>\n",
       "      <td>True</td>\n",
       "      <td>False</td>\n",
       "      <td>True</td>\n",
       "      <td>False</td>\n",
       "      <td>False</td>\n",
       "      <td>True</td>\n",
       "      <td>False</td>\n",
       "      <td>False</td>\n",
       "    </tr>\n",
       "  </tbody>\n",
       "</table>\n",
       "</div>"
      ],
      "text/plain": [
       "    said  jumped    you    cat   over    not  mooed    hat    cow   moon  \\\n",
       "0  False   False  False   True  False  False  False   True  False  False   \n",
       "1  False    True  False  False   True  False  False  False   True   True   \n",
       "2  False   False  False   True  False  False   True  False   True  False   \n",
       "3   True   False   True   True  False   True  False  False   True  False   \n",
       "\n",
       "   meowed  \n",
       "0   False  \n",
       "1   False  \n",
       "2    True  \n",
       "3   False  "
      ]
     },
     "metadata": {},
     "output_type": "display_data"
    }
   ],
   "source": [
    "doc_contains = [{w:(w in d) for w in vocabulary} for d in docs]\n",
    "display(pd.DataFrame(doc_contains))"
   ]
  },
  {
   "cell_type": "code",
   "execution_count": 173,
   "id": "99d64639",
   "metadata": {},
   "outputs": [
    {
     "data": {
      "text/html": [
       "<div>\n",
       "<style scoped>\n",
       "    .dataframe tbody tr th:only-of-type {\n",
       "        vertical-align: middle;\n",
       "    }\n",
       "\n",
       "    .dataframe tbody tr th {\n",
       "        vertical-align: top;\n",
       "    }\n",
       "\n",
       "    .dataframe thead th {\n",
       "        text-align: right;\n",
       "    }\n",
       "</style>\n",
       "<table border=\"1\" class=\"dataframe\">\n",
       "  <thead>\n",
       "    <tr style=\"text-align: right;\">\n",
       "      <th></th>\n",
       "      <th>said</th>\n",
       "      <th>jumped</th>\n",
       "      <th>you</th>\n",
       "      <th>cat</th>\n",
       "      <th>over</th>\n",
       "      <th>not</th>\n",
       "      <th>mooed</th>\n",
       "      <th>hat</th>\n",
       "      <th>cow</th>\n",
       "      <th>moon</th>\n",
       "      <th>meowed</th>\n",
       "    </tr>\n",
       "  </thead>\n",
       "  <tbody>\n",
       "    <tr>\n",
       "      <th>0</th>\n",
       "      <td>0</td>\n",
       "      <td>0</td>\n",
       "      <td>0</td>\n",
       "      <td>1</td>\n",
       "      <td>0</td>\n",
       "      <td>0</td>\n",
       "      <td>0</td>\n",
       "      <td>1</td>\n",
       "      <td>0</td>\n",
       "      <td>0</td>\n",
       "      <td>0</td>\n",
       "    </tr>\n",
       "    <tr>\n",
       "      <th>1</th>\n",
       "      <td>0</td>\n",
       "      <td>1</td>\n",
       "      <td>0</td>\n",
       "      <td>0</td>\n",
       "      <td>1</td>\n",
       "      <td>0</td>\n",
       "      <td>0</td>\n",
       "      <td>0</td>\n",
       "      <td>1</td>\n",
       "      <td>1</td>\n",
       "      <td>0</td>\n",
       "    </tr>\n",
       "    <tr>\n",
       "      <th>2</th>\n",
       "      <td>0</td>\n",
       "      <td>0</td>\n",
       "      <td>0</td>\n",
       "      <td>1</td>\n",
       "      <td>0</td>\n",
       "      <td>0</td>\n",
       "      <td>1</td>\n",
       "      <td>0</td>\n",
       "      <td>1</td>\n",
       "      <td>0</td>\n",
       "      <td>1</td>\n",
       "    </tr>\n",
       "    <tr>\n",
       "      <th>3</th>\n",
       "      <td>1</td>\n",
       "      <td>0</td>\n",
       "      <td>1</td>\n",
       "      <td>2</td>\n",
       "      <td>0</td>\n",
       "      <td>1</td>\n",
       "      <td>0</td>\n",
       "      <td>0</td>\n",
       "      <td>2</td>\n",
       "      <td>0</td>\n",
       "      <td>0</td>\n",
       "    </tr>\n",
       "  </tbody>\n",
       "</table>\n",
       "</div>"
      ],
      "text/plain": [
       "   said  jumped  you  cat  over  not  mooed  hat  cow  moon  meowed\n",
       "0     0       0    0    1     0    0      0    1    0     0       0\n",
       "1     0       1    0    0     1    0      0    0    1     1       0\n",
       "2     0       0    0    1     0    0      1    0    1     0       1\n",
       "3     1       0    1    2     0    1      0    0    2     0       0"
      ]
     },
     "metadata": {},
     "output_type": "display_data"
    }
   ],
   "source": [
    "word_count = [{w:d.count(w) for w in vocabulary} for d in docs]\n",
    "wcs = pd.DataFrame(word_count)\n",
    "display(wcs)"
   ]
  },
  {
   "cell_type": "code",
   "execution_count": 174,
   "id": "e1a7e372",
   "metadata": {},
   "outputs": [
    {
     "name": "stdout",
     "output_type": "stream",
     "text": [
      "[[1 0 1 0 0 0 0 0]\n",
      " [0 1 0 1 0 0 1 0]\n",
      " [1 1 0 0 1 1 0 0]\n",
      " [2 2 0 0 0 0 0 1]]\n"
     ]
    }
   ],
   "source": [
    "from sklearn.feature_extraction.text import CountVectorizer\n",
    "vectorizer = CountVectorizer(stop_words='english')\n",
    "\n",
    "sparse_matrix = vectorizer.fit_transform(docs)\n",
    "\n",
    "dense_matrix = sparse_matrix.todense()\n",
    "\n",
    "print(dense_matrix)"
   ]
  },
  {
   "cell_type": "code",
   "execution_count": 175,
   "id": "caa3ad06",
   "metadata": {},
   "outputs": [
    {
     "name": "stderr",
     "output_type": "stream",
     "text": [
      "/var/folders/62/wk7d6m657c77jqhkywh7b8140000gn/T/ipykernel_66859/1509906009.py:1: DeprecationWarning: `np.bool` is a deprecated alias for the builtin `bool`. To silence this warning, use `bool` by itself. Doing this will not modify any behavior and is safe. If you specifically wanted the numpy scalar type, use `np.bool_` here.\n",
      "Deprecated in NumPy 1.20; for more details and guidance: https://numpy.org/devdocs/release/1.20.0-notes.html#deprecations\n",
      "  doc_freq = pd.DataFrame(wcs.astype(np.bool).sum(axis='rows')).T\n"
     ]
    },
    {
     "data": {
      "text/html": [
       "<div>\n",
       "<style scoped>\n",
       "    .dataframe tbody tr th:only-of-type {\n",
       "        vertical-align: middle;\n",
       "    }\n",
       "\n",
       "    .dataframe tbody tr th {\n",
       "        vertical-align: top;\n",
       "    }\n",
       "\n",
       "    .dataframe thead th {\n",
       "        text-align: right;\n",
       "    }\n",
       "</style>\n",
       "<table border=\"1\" class=\"dataframe\">\n",
       "  <thead>\n",
       "    <tr style=\"text-align: right;\">\n",
       "      <th></th>\n",
       "      <th>said</th>\n",
       "      <th>jumped</th>\n",
       "      <th>you</th>\n",
       "      <th>cat</th>\n",
       "      <th>over</th>\n",
       "      <th>not</th>\n",
       "      <th>mooed</th>\n",
       "      <th>hat</th>\n",
       "      <th>cow</th>\n",
       "      <th>moon</th>\n",
       "      <th>meowed</th>\n",
       "    </tr>\n",
       "  </thead>\n",
       "  <tbody>\n",
       "    <tr>\n",
       "      <th>0</th>\n",
       "      <td>1</td>\n",
       "      <td>1</td>\n",
       "      <td>1</td>\n",
       "      <td>3</td>\n",
       "      <td>1</td>\n",
       "      <td>1</td>\n",
       "      <td>1</td>\n",
       "      <td>1</td>\n",
       "      <td>3</td>\n",
       "      <td>1</td>\n",
       "      <td>1</td>\n",
       "    </tr>\n",
       "  </tbody>\n",
       "</table>\n",
       "</div>"
      ],
      "text/plain": [
       "   said  jumped  you  cat  over  not  mooed  hat  cow  moon  meowed\n",
       "0     1       1    1    3     1    1      1    1    3     1       1"
      ]
     },
     "metadata": {},
     "output_type": "display_data"
    }
   ],
   "source": [
    "doc_freq = pd.DataFrame(wcs.astype(np.bool).sum(axis='rows')).T\n",
    "display(doc_freq)"
   ]
  },
  {
   "cell_type": "code",
   "execution_count": 176,
   "id": "6ede1eef",
   "metadata": {},
   "outputs": [
    {
     "data": {
      "text/html": [
       "<div>\n",
       "<style scoped>\n",
       "    .dataframe tbody tr th:only-of-type {\n",
       "        vertical-align: middle;\n",
       "    }\n",
       "\n",
       "    .dataframe tbody tr th {\n",
       "        vertical-align: top;\n",
       "    }\n",
       "\n",
       "    .dataframe thead th {\n",
       "        text-align: right;\n",
       "    }\n",
       "</style>\n",
       "<table border=\"1\" class=\"dataframe\">\n",
       "  <thead>\n",
       "    <tr style=\"text-align: right;\">\n",
       "      <th></th>\n",
       "      <th>said</th>\n",
       "      <th>jumped</th>\n",
       "      <th>you</th>\n",
       "      <th>cat</th>\n",
       "      <th>over</th>\n",
       "      <th>not</th>\n",
       "      <th>mooed</th>\n",
       "      <th>hat</th>\n",
       "      <th>cow</th>\n",
       "      <th>moon</th>\n",
       "      <th>meowed</th>\n",
       "    </tr>\n",
       "  </thead>\n",
       "  <tbody>\n",
       "    <tr>\n",
       "      <th>0</th>\n",
       "      <td>1.386294</td>\n",
       "      <td>1.386294</td>\n",
       "      <td>1.386294</td>\n",
       "      <td>0.287682</td>\n",
       "      <td>1.386294</td>\n",
       "      <td>1.386294</td>\n",
       "      <td>1.386294</td>\n",
       "      <td>1.386294</td>\n",
       "      <td>0.287682</td>\n",
       "      <td>1.386294</td>\n",
       "      <td>1.386294</td>\n",
       "    </tr>\n",
       "  </tbody>\n",
       "</table>\n",
       "</div>"
      ],
      "text/plain": [
       "       said    jumped       you       cat      over       not     mooed  \\\n",
       "0  1.386294  1.386294  1.386294  0.287682  1.386294  1.386294  1.386294   \n",
       "\n",
       "        hat       cow      moon    meowed  \n",
       "0  1.386294  0.287682  1.386294  1.386294  "
      ]
     },
     "metadata": {},
     "output_type": "display_data"
    }
   ],
   "source": [
    "idf = np.log(len(docs) / doc_freq)\n",
    "display(idf)"
   ]
  },
  {
   "cell_type": "code",
   "execution_count": 177,
   "id": "04ff17fe",
   "metadata": {},
   "outputs": [
    {
     "data": {
      "text/html": [
       "<div>\n",
       "<style scoped>\n",
       "    .dataframe tbody tr th:only-of-type {\n",
       "        vertical-align: middle;\n",
       "    }\n",
       "\n",
       "    .dataframe tbody tr th {\n",
       "        vertical-align: top;\n",
       "    }\n",
       "\n",
       "    .dataframe thead th {\n",
       "        text-align: right;\n",
       "    }\n",
       "</style>\n",
       "<table border=\"1\" class=\"dataframe\">\n",
       "  <thead>\n",
       "    <tr style=\"text-align: right;\">\n",
       "      <th></th>\n",
       "      <th>said</th>\n",
       "      <th>jumped</th>\n",
       "      <th>you</th>\n",
       "      <th>cat</th>\n",
       "      <th>over</th>\n",
       "      <th>not</th>\n",
       "      <th>mooed</th>\n",
       "      <th>hat</th>\n",
       "      <th>cow</th>\n",
       "      <th>moon</th>\n",
       "      <th>meowed</th>\n",
       "    </tr>\n",
       "  </thead>\n",
       "  <tbody>\n",
       "    <tr>\n",
       "      <th>0</th>\n",
       "      <td>0.000000</td>\n",
       "      <td>0.000000</td>\n",
       "      <td>0.000000</td>\n",
       "      <td>0.287682</td>\n",
       "      <td>0.000000</td>\n",
       "      <td>0.000000</td>\n",
       "      <td>0.000000</td>\n",
       "      <td>1.386294</td>\n",
       "      <td>0.000000</td>\n",
       "      <td>0.000000</td>\n",
       "      <td>0.000000</td>\n",
       "    </tr>\n",
       "    <tr>\n",
       "      <th>1</th>\n",
       "      <td>0.000000</td>\n",
       "      <td>1.386294</td>\n",
       "      <td>0.000000</td>\n",
       "      <td>0.000000</td>\n",
       "      <td>1.386294</td>\n",
       "      <td>0.000000</td>\n",
       "      <td>0.000000</td>\n",
       "      <td>0.000000</td>\n",
       "      <td>0.287682</td>\n",
       "      <td>1.386294</td>\n",
       "      <td>0.000000</td>\n",
       "    </tr>\n",
       "    <tr>\n",
       "      <th>2</th>\n",
       "      <td>0.000000</td>\n",
       "      <td>0.000000</td>\n",
       "      <td>0.000000</td>\n",
       "      <td>0.287682</td>\n",
       "      <td>0.000000</td>\n",
       "      <td>0.000000</td>\n",
       "      <td>1.386294</td>\n",
       "      <td>0.000000</td>\n",
       "      <td>0.287682</td>\n",
       "      <td>0.000000</td>\n",
       "      <td>1.386294</td>\n",
       "    </tr>\n",
       "    <tr>\n",
       "      <th>3</th>\n",
       "      <td>1.386294</td>\n",
       "      <td>0.000000</td>\n",
       "      <td>1.386294</td>\n",
       "      <td>0.575364</td>\n",
       "      <td>0.000000</td>\n",
       "      <td>1.386294</td>\n",
       "      <td>0.000000</td>\n",
       "      <td>0.000000</td>\n",
       "      <td>0.575364</td>\n",
       "      <td>0.000000</td>\n",
       "      <td>0.000000</td>\n",
       "    </tr>\n",
       "  </tbody>\n",
       "</table>\n",
       "</div>"
      ],
      "text/plain": [
       "       said    jumped       you       cat      over       not     mooed  \\\n",
       "0  0.000000  0.000000  0.000000  0.287682  0.000000  0.000000  0.000000   \n",
       "1  0.000000  1.386294  0.000000  0.000000  1.386294  0.000000  0.000000   \n",
       "2  0.000000  0.000000  0.000000  0.287682  0.000000  0.000000  1.386294   \n",
       "3  1.386294  0.000000  1.386294  0.575364  0.000000  1.386294  0.000000   \n",
       "\n",
       "        hat       cow      moon    meowed  \n",
       "0  1.386294  0.000000  0.000000  0.000000  \n",
       "1  0.000000  0.287682  1.386294  0.000000  \n",
       "2  0.000000  0.287682  0.000000  1.386294  \n",
       "3  0.000000  0.575364  0.000000  0.000000  "
      ]
     },
     "metadata": {},
     "output_type": "display_data"
    }
   ],
   "source": [
    "tf_idf = wcs * idf.iloc[0]\n",
    "display(tf_idf)"
   ]
  },
  {
   "cell_type": "code",
   "execution_count": 178,
   "id": "c0686ef8",
   "metadata": {},
   "outputs": [
    {
     "data": {
      "text/plain": [
       "array([[0.        , 0.        , 0.        , 0.5       , 0.        ,\n",
       "        0.        , 0.        , 0.5       , 0.        , 0.        ,\n",
       "        0.        ],\n",
       "       [0.        , 0.25      , 0.        , 0.        , 0.25      ,\n",
       "        0.        , 0.        , 0.        , 0.25      , 0.25      ,\n",
       "        0.        ],\n",
       "       [0.        , 0.        , 0.        , 0.25      , 0.        ,\n",
       "        0.        , 0.25      , 0.        , 0.25      , 0.        ,\n",
       "        0.25      ],\n",
       "       [0.14285714, 0.        , 0.14285714, 0.28571429, 0.        ,\n",
       "        0.14285714, 0.        , 0.        , 0.28571429, 0.        ,\n",
       "        0.        ]])"
      ]
     },
     "execution_count": 178,
     "metadata": {},
     "output_type": "execute_result"
    }
   ],
   "source": [
    "skpre.Normalizer(norm='l1').fit_transform(wcs)"
   ]
  },
  {
   "cell_type": "code",
   "execution_count": 179,
   "id": "bc866239",
   "metadata": {},
   "outputs": [
    {
     "name": "stdout",
     "output_type": "stream",
     "text": [
      "[[1 0 1 0 0 0 0 0]\n",
      " [0 1 0 1 0 0 1 0]\n",
      " [1 1 0 0 1 1 0 0]\n",
      " [2 2 0 0 0 0 0 1]]\n"
     ]
    }
   ],
   "source": [
    "sparse_matrix = vectorizer.fit_transform(docs)\n",
    "dense_matrix = sparse_matrix.todense()\n",
    "\n",
    "print(dense_matrix)"
   ]
  },
  {
   "cell_type": "code",
   "execution_count": 180,
   "id": "afddd6ba",
   "metadata": {},
   "outputs": [],
   "source": [
    "from sklearn.datasets import fetch_20newsgroups\n",
    "twenty_train = fetch_20newsgroups(subset='train')"
   ]
  },
  {
   "cell_type": "code",
   "execution_count": 181,
   "id": "387cadb3",
   "metadata": {},
   "outputs": [
    {
     "name": "stdout",
     "output_type": "stream",
     "text": [
      "the groups:\n",
      "['alt.atheism', 'comp.graphics', 'comp.os.ms-windows.misc',\n",
      "'comp.sys.ibm.pc.hardware', 'comp.sys.mac.hardware', 'comp.windows.x',\n",
      "'misc.forsale', 'rec.autos', 'rec.motorcycles', 'rec.sport.baseball',\n",
      "'rec.sport.hockey', 'sci.crypt', 'sci.electronics', 'sci.med',\n",
      "'sci.space', 'soc.religion.christian', 'talk.politics.guns',\n",
      "'talk.politics.mideast', 'talk.politics.misc', 'talk.religion.misc']\n"
     ]
    }
   ],
   "source": [
    "print('the groups:')\n",
    "print(textwrap.fill(str(twenty_train.target_names)))"
   ]
  },
  {
   "cell_type": "code",
   "execution_count": 182,
   "id": "e5f3d577",
   "metadata": {},
   "outputs": [
    {
     "name": "stdout",
     "output_type": "stream",
     "text": [
      "From: lerxst@wam.umd.edu (where's my thing)\n",
      "Subject: WHAT car is this!?\n",
      "Nntp-Posting-Host: rac3.wam.umd.edu\n",
      "Organization: University of Maryland, College Park\n",
      "Lines: 15\n",
      "\n",
      " I was wondering if anyone out there could enlighten me on this car I saw\n",
      "the other day. It was a 2-door sports car, looked to be from the late 60s/\n",
      "early 70s. It was called a Bricklin. The doors were really small. In addition,\n",
      "the front bumper was separate from the rest of the body. This is \n"
     ]
    }
   ],
   "source": [
    "print('\\n'.join(twenty_train.data[0].splitlines()[:10]))"
   ]
  },
  {
   "cell_type": "code",
   "execution_count": 183,
   "id": "fec63854",
   "metadata": {},
   "outputs": [],
   "source": [
    "from sklearn.feature_extraction.text import CountVectorizer, TfidfTransformer\n",
    "\n",
    "ct_vect = CountVectorizer()\n",
    "tfidf_xform = TfidfTransformer()\n",
    "\n",
    "docs_as_counts = ct_vect.fit_transform(twenty_train.data)\n",
    "docs_as_tfidf = tfidf_xform.fit_transform(docs_as_counts)"
   ]
  },
  {
   "cell_type": "code",
   "execution_count": 184,
   "id": "fb8231f1",
   "metadata": {},
   "outputs": [],
   "source": [
    "from sklearn.feature_extraction.text import CountVectorizer, TfidfTransformer\n",
    "from sklearn.naive_bayes import MultinomialNB\n",
    "\n",
    "ct_vect = CountVectorizer()\n",
    "tfidf_xform = TfidfTransformer()\n",
    "\n",
    "docs_as_counts = ct_vect.fit_transform(twenty_train.data)\n",
    "docs_as_tfidf = tfidf_xform.fit_transform(docs_as_counts)\n",
    "\n",
    "model = MultinomialNB().fit(docs_as_tfidf, twenty_train.target)"
   ]
  },
  {
   "cell_type": "code",
   "execution_count": 185,
   "id": "6e6881ec",
   "metadata": {},
   "outputs": [],
   "source": [
    "from sklearn.feature_extraction.text import CountVectorizer, TfidfTransformer\n",
    "from sklearn.naive_bayes import MultinomialNB\n",
    "from sklearn.pipeline import make_pipeline\n",
    "\n",
    "doc_pipeline = make_pipeline(\n",
    "    CountVectorizer(),\n",
    "    TfidfTransformer(),\n",
    "    MultinomialNB()\n",
    ")"
   ]
  },
  {
   "cell_type": "code",
   "execution_count": 186,
   "id": "1e9fa6b7",
   "metadata": {},
   "outputs": [],
   "source": [
    "categories = ['misc.forsale',\n",
    "             'comp.graphics',\n",
    "             'sci.med',\n",
    "             'sci.space']"
   ]
  },
  {
   "cell_type": "code",
   "execution_count": 187,
   "id": "10a0fe71",
   "metadata": {},
   "outputs": [],
   "source": [
    "from sklearn.datasets import fetch_20newsgroups\n",
    "from sklearn.feature_extraction.text import TfidfVectorizer\n",
    "from sklearn.naive_bayes import MultinomialNB\n",
    "from sklearn.pipeline import make_pipeline\n",
    "\n",
    "twenty_train = fetch_20newsgroups(subset='train',\n",
    "                                  categories=categories,\n",
    "                                  shuffle=True,\n",
    "                                  random_state=42)\n",
    "\n",
    "doc_pipeline = make_pipeline(\n",
    "    TfidfVectorizer(),\n",
    "    MultinomialNB()\n",
    ")\n",
    "\n",
    "model = doc_pipeline.fit(twenty_train.data, twenty_train.target)"
   ]
  },
  {
   "cell_type": "code",
   "execution_count": 188,
   "id": "8d43f751",
   "metadata": {},
   "outputs": [
    {
     "data": {
      "image/png": "[encoded data removed]",
      "text/plain": [
       "<Figure size 640x480 with 2 Axes>"
      ]
     },
     "metadata": {},
     "output_type": "display_data"
    }
   ],
   "source": [
    "from sklearn import metrics\n",
    "twenty_test = fetch_20newsgroups(subset='test',\n",
    "                                 categories=categories,\n",
    "                                 shuffle=True,\n",
    "                                 random_state=42)\n",
    "\n",
    "doc_preds = model.predict(twenty_test.data)\n",
    "cm = metrics.confusion_matrix(twenty_test.target, doc_preds)\n",
    "ax = sns.heatmap(cm, annot=True,\n",
    "                 xticklabels=twenty_test.target_names,\n",
    "                 yticklabels=twenty_test.target_names,\n",
    "                 fmt='3d')\n",
    "ax.set_xlabel('Predicted')\n",
    "ax.set_ylabel('Actual')\n",
    "plt.show()"
   ]
  },
  {
   "cell_type": "code",
   "execution_count": 189,
   "id": "9238edf1",
   "metadata": {},
   "outputs": [
    {
     "data": {
      "image/png": "[encoded data removed]",
      "text/plain": [
       "<Figure size 800x400 with 2 Axes>"
      ]
     },
     "metadata": {},
     "output_type": "display_data"
    }
   ],
   "source": [
    "from sklearn import datasets\n",
    "from sklearn.decomposition import PCA\n",
    "from sklearn.cluster import KMeans\n",
    "import matplotlib.pyplot as plt\n",
    "\n",
    "iris = datasets.load_iris()\n",
    "twod_iris = PCA(n_components=2, whiten=True).fit_transform(iris.data)\n",
    "clusters = KMeans(n_clusters=3).fit(twod_iris)\n",
    "\n",
    "fig, axes = plt.subplots(1, 2, figsize=(8, 4))\n",
    "axes[0].scatter(*twod_iris.T, c=iris.target)\n",
    "axes[1].scatter(*twod_iris.T, c=clusters.labels_)\n",
    "\n",
    "axes[0].set_title(\"Truth\")\n",
    "axes[1].set_title(\"Clustered\")\n",
    "\n",
    "plt.show()"
   ]
  },
  {
   "cell_type": "code",
   "execution_count": 190,
   "id": "81ac0580",
   "metadata": {},
   "outputs": [
    {
     "name": "stdout",
     "output_type": "stream",
     "text": [
      "number of categories: 0\n",
      "first 10 categories:\n",
      " []\n"
     ]
    }
   ],
   "source": [
    "import glob\n",
    "import os.path as osp\n",
    "import textwrap\n",
    "\n",
    "objcat_path = \"./data/101_ObjectCategories\"\n",
    "cat_paths = glob.glob(osp.join(objcat_path, \"*\"))\n",
    "all_categories = [d.split('/')[-1] for d in cat_paths]\n",
    "\n",
    "print(\"number of categories:\", len(all_categories))\n",
    "print(\"first 10 categories:\\n\",\n",
    "     textwrap.fill(str(all_categories[:10])))"
   ]
  },
  {
   "cell_type": "code",
   "execution_count": 191,
   "id": "77e6a4b3",
   "metadata": {},
   "outputs": [],
   "source": [
    "import itertools as it\n",
    "\n",
    "use_cats = ['accordian', 'airplanes', 'anchor']\n",
    "use_imgs = range(1, 11)\n",
    "\n",
    "img_ids = list(it.product(use_cats, use_imgs))\n",
    "num_imgs = len(img_ids)\n",
    "global_vocab_size = 20"
   ]
  },
  {
   "cell_type": "code",
   "execution_count": 192,
   "id": "4d9b7da4",
   "metadata": {},
   "outputs": [
    {
     "name": "stdout",
     "output_type": "stream",
     "text": [
      "dict_keys([('accordian', 1), ('accordian', 2), ('accordian', 3), ('accordian', 4), ('accordian', 5), ('accordian', 6), ('accordian', 7), ('accordian', 8), ('accordian', 9), ('accordian', 10), ('airplanes', 1), ('airplanes', 2), ('airplanes', 3), ('airplanes', 4), ('airplanes', 5), ('airplanes', 6), ('airplanes', 7), ('airplanes', 8), ('airplanes', 9), ('airplanes', 10), ('anchor', 1), ('anchor', 2), ('anchor', 3), ('anchor', 4), ('anchor', 5), ('anchor', 6), ('anchor', 7), ('anchor', 8), ('anchor', 9), ('anchor', 10)])\n"
     ]
    }
   ],
   "source": [
    "import itertools as it\n",
    "\n",
    "def add_local_words_for_img(local_words_dict, img_id):\n",
    "    \n",
    "    local_words_dict[img_id] = [\"word1\", \"word2\"]\n",
    "\n",
    "use_cats = ['accordian', 'airplanes', 'anchor']\n",
    "use_imgs = range(1, 11)\n",
    "\n",
    "img_ids = list(it.product(use_cats, use_imgs))\n",
    "num_imgs = len(img_ids)\n",
    "global_vocab_size = 20\n",
    "\n",
    "local_words = {}\n",
    "for img_id in img_ids:\n",
    "    add_local_words_for_img(local_words, img_id)\n",
    "\n",
    "print(local_words.keys())"
   ]
  },
  {
   "cell_type": "code",
   "execution_count": 193,
   "id": "131d32c7",
   "metadata": {},
   "outputs": [
    {
     "name": "stdout",
     "output_type": "stream",
     "text": [
      "Number of local words for images:\n",
      "[2, 2, 2, 2, 2, 2, 2, 2, 2, 2, 2, 2, 2, 2, 2, 2,\n",
      "2, 2, 2, 2, 2, 2, 2, 2, 2, 2, 2, 2, 2, 2]\n"
     ]
    }
   ],
   "source": [
    "import itertools as it\n",
    "import textwrap\n",
    "\n",
    "itcfi = it.chain.from_iterable\n",
    "img_local_word_cts = [len(local_words[img_id]) for img_id in img_ids]\n",
    "print(\"Number of local words for images:\")\n",
    "print(textwrap.fill(str(img_local_word_cts), width=50))"
   ]
  },
  {
   "cell_type": "code",
   "execution_count": 194,
   "id": "6d7189b4",
   "metadata": {},
   "outputs": [
    {
     "name": "stdout",
     "output_type": "stream",
     "text": [
      "local word tbl: (273, 3)\n"
     ]
    }
   ],
   "source": [
    "import numpy as np\n",
    "import itertools as it\n",
    "\n",
    "local_words = {}\n",
    "for cat in use_cats:\n",
    "    local_words[cat] = {}\n",
    "    for img_id in use_imgs:\n",
    "        num_local_words = np.random.randint(5, 15)  \n",
    "        local_words[cat][img_id] = np.random.rand(num_local_words, 3)  \n",
    "\n",
    "all_local_words = list(it.chain.from_iterable(local_words[cat].values() for cat in use_cats))\n",
    "\n",
    "tot_num_local_words = sum(lw.shape[0] for lw in all_local_words)\n",
    "num_local_words = all_local_words[0].shape[1]\n",
    "\n",
    "local_word_arr = np.vstack(all_local_words)\n",
    "\n",
    "print('local word tbl:', local_word_arr.shape)"
   ]
  },
  {
   "cell_type": "code",
   "execution_count": 195,
   "id": "23400a26",
   "metadata": {},
   "outputs": [
    {
     "name": "stdout",
     "output_type": "stream",
     "text": [
      "translated words shape: (273,)\n"
     ]
    }
   ],
   "source": [
    "global_vocab_size = 20\n",
    "translator = KMeans(n_clusters=global_vocab_size)  \n",
    "global_words = translator.fit_predict(local_word_arr)\n",
    "print('translated words shape:', global_words.shape)"
   ]
  },
  {
   "cell_type": "code",
   "execution_count": 196,
   "id": "238377e9",
   "metadata": {},
   "outputs": [
    {
     "name": "stdout",
     "output_type": "stream",
     "text": [
      "shape hist table: (10, 20)\n"
     ]
    }
   ],
   "source": [
    "from collections import Counter \n",
    "which_img = []\n",
    "for img_id in use_imgs:\n",
    "    which_img.extend([img_id] * len(local_words[use_cats[0]][img_id]))  \n",
    "\n",
    "counts = Counter(zip(which_img, global_words))\n",
    "\n",
    "imgs_as_bogvw = np.zeros((len(use_imgs), global_vocab_size))\n",
    "for (img, global_word), count in counts.items():\n",
    "    imgs_as_bogvw[img - 1, global_word] = count  \n",
    "\n",
    "print('shape hist table:', imgs_as_bogvw.shape)"
   ]
  },
  {
   "cell_type": "code",
   "execution_count": 197,
   "id": "5091ce0c",
   "metadata": {},
   "outputs": [
    {
     "name": "stdout",
     "output_type": "stream",
     "text": [
      "img tgt values: [0, 0, 0, 0, 0, 0, 0, 0, 0, 0]\n"
     ]
    }
   ],
   "source": [
    "img_tgts = []\n",
    "for cat_id, cat in enumerate(use_cats):\n",
    "    for img_id in use_imgs:\n",
    "        img_tgts.extend([cat_id] * len(local_words[cat][img_id]))\n",
    "\n",
    "print('img tgt values:', img_tgts[:10])"
   ]
  },
  {
   "cell_type": "code",
   "execution_count": 198,
   "id": "438ab756",
   "metadata": {},
   "outputs": [],
   "source": [
    "from sklearn.svm import SVC \n",
    "img_tgts = []\n",
    "for cat_id, cat in enumerate(use_cats):\n",
    "    for _ in use_imgs:  \n",
    "        img_tgts.append(cat_id)"
   ]
  },
  {
   "cell_type": "code",
   "execution_count": 199,
   "id": "01360405",
   "metadata": {},
   "outputs": [],
   "source": [
    "class BoVW_XForm:\n",
    "    def __init__(self):\n",
    "        pass\n",
    "    \n",
    "    def add_local_words_for_img(self, local_words, img_id):\n",
    "        # Implement this function to add local words for an image\n",
    "        pass\n",
    "    \n",
    "    def _to_local_words(self, img_ids):\n",
    "        local_words = {}\n",
    "        for img_id in img_ids:\n",
    "            self.add_local_words_for_img(local_words, img_id)\n",
    "            \n",
    "        itcfi = it.chain.from_iterable\n",
    "        all_local_words = list(itcfi(local_words.values()))\n",
    "        return all_local_words\n",
    "    \n",
    "    def fit(self, img_ids, tgt=None, global_vocab_size=10, num_local_words=100):\n",
    "        all_local_words = self._to_local_words(img_ids)\n",
    "        tot_num_local_words = sum(lw.shape[0] for lw in all_local_words)\n",
    "        local_word_arr = np.fromiter(it.chain.from_iterable(all_local_words),\n",
    "                                     dtype=np.float32,\n",
    "                                     count=tot_num_local_words * num_local_words).reshape(tot_num_local_words, num_local_words)\n",
    "        \n",
    "        self.translator = cluster.KMeans(n_clusters=global_vocab_size)\n",
    "        self.translator.fit(local_word_arr)\n",
    "        return self\n",
    "    \n",
    "    def transform(self, img_ids, tgt=None, global_vocab_size=10, num_local_words=100):\n",
    "        all_local_words = self._to_local_words(img_ids)\n",
    "        tot_num_local_words = sum(lw.shape[0] for lw in all_local_words)\n",
    "        local_word_arr = np.fromiter(it.chain.from_iterable(all_local_words),\n",
    "                                     dtype=np.float32,\n",
    "                                     count=tot_num_local_words * num_local_words).reshape(tot_num_local_words, num_local_words)\n",
    "        global_words = self.translator.predict(local_word_arr)\n",
    "        \n",
    "        # Define the missing function 'enumerate_outer'\n",
    "        def enumerate_outer(seq):\n",
    "            for i, subseq in enumerate(seq):\n",
    "                for item in subseq:\n",
    "                    yield i, item\n",
    "        \n",
    "        counts = co.Counter(zip(enumerate_outer(all_local_words), global_words))\n",
    "        imgs_as_bowv = np.zeros((len(img_ids), global_vocab_size))\n",
    "        for (img, global_word), count in counts.items():\n",
    "            imgs_as_bowv[img, global_word] = count\n",
    "        return imgs_as_bowv"
   ]
  },
  {
   "cell_type": "code",
   "execution_count": 200,
   "id": "10b2e508",
   "metadata": {},
   "outputs": [],
   "source": [
    "use_cats = ['watch', 'umbrella', 'sunflower', 'kangaroo']\n",
    "use_imgs = range(1,40)\n",
    "\n",
    "img_ids = list(it.product(use_cats, use_imgs))\n",
    "num_imgs = len(img_ids)\n",
    "\n",
    "cat_id = {c:i for i,c in enumerate(use_cats)}\n",
    "img_tgts = [cat_id[ii[0]] for ii in img_ids]"
   ]
  },
  {
   "cell_type": "code",
   "execution_count": null,
   "id": "493ba2de",
   "metadata": {},
   "outputs": [],
   "source": [
    "from sklearn import cluster, pipeline, svm, preprocessing as skpre, metrics\n",
    "import sklearn.model_selection as skms\n",
    "import seaborn as sns\n",
    "import numpy as np\n",
    "\n",
    "print(\"Before train-test split:\")\n",
    "print(\"img_ids shape:\", img_ids.shape)\n",
    "print(\"img_tgts shape:\", img_tgts.shape)\n",
    "\n",
    "train_img, test_img, train_tgt, test_tgt = skms.train_test_split(img_ids, img_tgts, test_size=0.2, random_state=42)\n",
    "\n",
    "print(\"After train-test split:\")\n",
    "print(\"train_img shape:\", train_img.shape)\n",
    "print(\"train_tgt shape:\", train_tgt.shape)\n",
    "\n",
    "bovw_pipe = pipeline.make_pipeline(BoVW_XForm(),\n",
    "                                   skpre.StandardScaler(),\n",
    "                                   svm.SVC())\n",
    "\n",
    "print(\"Fitting pipeline...\")\n",
    "\n",
    "bovw_pipe.fit(train_img, train_tgt)\n",
    "\n",
    "print(\"Pipeline fitting complete.\")"
   ]
  },
  {
   "cell_type": "code",
   "execution_count": null,
   "id": "e9106971",
   "metadata": {},
   "outputs": [],
   "source": [
    "train_img, test_img, train_tgt, test_tgt = skms.train_test_split(img_ids, img_tgts, test_size=0.2, random_state=42)\n",
    "\n",
    "bovw_pipe = pipeline.make_pipeline(BoVW_XForm(),\n",
    "                                   skpre.StandardScaler(),\n",
    "                                   svm.SVC())\n",
    "\n",
    "bovw_pipe.fit(train_img, train_tgt)\n",
    "\n",
    "img_preds = bovw_pipe.predict(test_img)\n",
    "\n",
    "cm = metrics.confusion_matrix(test_tgt, img_preds)\n",
    "\n",
    "ax = sns.heatmap(cm, annot=True,\n",
    "                 xticklabels=use_cats,\n",
    "                 yticklabels=use_cats,\n",
    "                 fmt='d')  \n",
    "\n",
    "ax.set_xlabel('Predicted')\n",
    "ax.set_ylabel('Actual')"
   ]
  }
 ],
 "metadata": {
  "kernelspec": {
   "display_name": "Python 3 (ipykernel)",
   "language": "python",
   "name": "python3"
  },
  "language_info": {
   "codemirror_mode": {
    "name": "ipython",
    "version": 3
   },
   "file_extension": ".py",
   "mimetype": "text/x-python",
   "name": "python",
   "nbconvert_exporter": "python",
   "pygments_lexer": "ipython3",
   "version": "3.9.13"
  }
 },
 "nbformat": 4,
 "nbformat_minor": 5
}
