{
 "cells": [
  {
   "cell_type": "code",
   "execution_count": 32,
   "id": "8ca70f64",
   "metadata": {},
   "outputs": [],
   "source": [
    "import matplotlib.pyplot as plt\n",
    "import numpy as np\n",
    "import pandas as pd\n",
    "import seaborn as sns\n",
    "import collections as co\n",
    "import itertools as it"
   ]
  },
  {
   "cell_type": "code",
   "execution_count": 33,
   "id": "56a79d04",
   "metadata": {},
   "outputs": [],
   "source": [
    "from sklearn import (datasets,\n",
    "                     dummy,\n",
    "                     linear_model,\n",
    "                     metrics,\n",
    "                     model_selection as skms,\n",
    "                     neighbors,\n",
    "                     pipeline,\n",
    "                     preprocessing as skpre)"
   ]
  },
  {
   "cell_type": "code",
   "execution_count": 34,
   "id": "168efd97",
   "metadata": {},
   "outputs": [],
   "source": [
    "from sklearn.model_selection import train_test_split\n",
    "import sklearn.model_selection as skms\n",
    "\n",
    "diabetes = datasets.load_diabetes()\n",
    "\n",
    "tts = skms.train_test_split(diabetes.data,\n",
    "                           diabetes.target,\n",
    "                           test_size=.25,\n",
    "                           random_state=42)\n",
    "\n",
    "(diabetes_train_ftrs, diabetes_test_ftrs,\n",
    "diabetes_train_tgt, diabetes_test_tgt) = tts"
   ]
  },
  {
   "cell_type": "code",
   "execution_count": 35,
   "id": "c2e81992",
   "metadata": {},
   "outputs": [],
   "source": [
    "from sklearn.dummy import DummyRegressor\n",
    "\n",
    "baseline = dummy.DummyRegressor(strategy='median')"
   ]
  },
  {
   "cell_type": "code",
   "execution_count": 36,
   "id": "3e70c91b",
   "metadata": {},
   "outputs": [
    {
     "data": {
      "text/html": [
       "<div>\n",
       "<style scoped>\n",
       "    .dataframe tbody tr th:only-of-type {\n",
       "        vertical-align: middle;\n",
       "    }\n",
       "\n",
       "    .dataframe tbody tr th {\n",
       "        vertical-align: top;\n",
       "    }\n",
       "\n",
       "    .dataframe thead th {\n",
       "        text-align: right;\n",
       "    }\n",
       "</style>\n",
       "<table border=\"1\" class=\"dataframe\">\n",
       "  <thead>\n",
       "    <tr style=\"text-align: right;\">\n",
       "      <th></th>\n",
       "      <th>mse</th>\n",
       "      <th>rmse</th>\n",
       "    </tr>\n",
       "  </thead>\n",
       "  <tbody>\n",
       "    <tr>\n",
       "      <th>constant</th>\n",
       "      <td>14657.684685</td>\n",
       "      <td>121.068925</td>\n",
       "    </tr>\n",
       "    <tr>\n",
       "      <th>quantile</th>\n",
       "      <td>10216.387387</td>\n",
       "      <td>101.076146</td>\n",
       "    </tr>\n",
       "    <tr>\n",
       "      <th>mean</th>\n",
       "      <td>5607.197931</td>\n",
       "      <td>74.881225</td>\n",
       "    </tr>\n",
       "    <tr>\n",
       "      <th>median</th>\n",
       "      <td>5542.225225</td>\n",
       "      <td>74.446123</td>\n",
       "    </tr>\n",
       "  </tbody>\n",
       "</table>\n",
       "</div>"
      ],
      "text/plain": [
       "                   mse        rmse\n",
       "constant  14657.684685  121.068925\n",
       "quantile  10216.387387  101.076146\n",
       "mean       5607.197931   74.881225\n",
       "median     5542.225225   74.446123"
      ]
     },
     "metadata": {},
     "output_type": "display_data"
    }
   ],
   "source": [
    "strategies = ['constant', 'quantile', 'mean', 'median', ]\n",
    "baseline_args = [{\"strategy\":s} for s in strategies]\n",
    "\n",
    "baseline_args[0]['constant'] = 50.0\n",
    "baseline_args[1]['quantile'] =  0.75\n",
    "\n",
    "def do_one_diabetes(**args):\n",
    "    baseline = dummy.DummyRegressor(**args)\n",
    "    baseline.fit(diabetes_train_ftrs, diabetes_train_tgt)\n",
    "    base_preds = baseline.predict(diabetes_test_ftrs)\n",
    "    return metrics.mean_squared_error(base_preds, diabetes_test_tgt)\n",
    "\n",
    "mses = [do_one_diabetes(**bla) for bla in baseline_args]\n",
    "\n",
    "display(pd.DataFrame({'mse':mses,\n",
    "                      'rmse':np.sqrt(mses)}, \n",
    "                     index=strategies))"
   ]
  },
  {
   "cell_type": "code",
   "execution_count": 37,
   "id": "38881a02",
   "metadata": {},
   "outputs": [],
   "source": [
    "def rms_error(actual, predicted):\n",
    "    ' root-mean-squared-error function '\n",
    "    \n",
    "    mse = metrics.mean_squared_error(actual, predicted)\n",
    "    return np.sqrt(mse)\n",
    "\n",
    "def neg_rmse_score(actual, predicted):\n",
    "    ' rmse based score function '\n",
    "    \n",
    "    return -rms_error(actual, predicted)\n",
    "\n",
    "def neg_rmse_scorer(model, ftrs, tgt_actual):\n",
    "    ' rmse scorer suitable for scoring arg '\n",
    "    tgt_pred = model.predict(ftrs)\n",
    "    return neg_rmse_score(tgt_actual, tgt_pred)"
   ]
  },
  {
   "cell_type": "code",
   "execution_count": 38,
   "id": "fc2d3fa3",
   "metadata": {},
   "outputs": [
    {
     "data": {
      "text/plain": [
       "array([-58.07341774, -67.43002106, -62.28861222, -62.02315061,\n",
       "       -67.25015489])"
      ]
     },
     "execution_count": 38,
     "metadata": {},
     "output_type": "execute_result"
    }
   ],
   "source": [
    "knn = neighbors.KNeighborsRegressor(n_neighbors=3)\n",
    "skms.cross_val_score(knn, diabetes.data, diabetes.target,\n",
    "                     scoring=neg_rmse_scorer)"
   ]
  },
  {
   "cell_type": "code",
   "execution_count": 39,
   "id": "c4d50ace",
   "metadata": {},
   "outputs": [
    {
     "name": "stdout",
     "output_type": "stream",
     "text": [
      "Return the coefficient of determination of the prediction.\n"
     ]
    }
   ],
   "source": [
    "lr = linear_model.LinearRegression()\n",
    "\n",
    "print(lr.score.__doc__.splitlines()[0])"
   ]
  },
  {
   "cell_type": "code",
   "execution_count": 40,
   "id": "e70d1c88",
   "metadata": {},
   "outputs": [],
   "source": [
    "our_preds = np.array([1, 2, 3])\n",
    "mean_preds = np.array([2, 2, 2])\n",
    "actual = np.array([2, 3, 4])\n",
    "\n",
    "sse_ours = np.sum(( our_preds - actual)**2)\n",
    "sse_mean = np.sum((mean_preds - actual)**2)"
   ]
  },
  {
   "cell_type": "code",
   "execution_count": 41,
   "id": "ace6a7fa",
   "metadata": {},
   "outputs": [
    {
     "name": "stdout",
     "output_type": "stream",
     "text": [
      "manual r2: 0.40\n"
     ]
    }
   ],
   "source": [
    "r_2 = 1 - (sse_ours / sse_mean)\n",
    "print(\"manual r2:{:5.2f}\".format(r_2))"
   ]
  },
  {
   "cell_type": "code",
   "execution_count": 43,
   "id": "0472074b",
   "metadata": {},
   "outputs": [
    {
     "name": "stdout",
     "output_type": "stream",
     "text": [
      "-0.014016723490579253\n"
     ]
    }
   ],
   "source": [
    "baseline = DummyRegressor(strategy='mean')\n",
    "\n",
    "baseline.fit(diabetes_train_ftrs, diabetes_train_tgt)\n",
    "base_preds = baseline.predict(diabetes_test_ftrs)\n",
    "\n",
    "base_r2_sklearn = metrics.r2_score(diabetes_test_tgt, base_preds)\n",
    "\n",
    "print(base_r2_sklearn)"
   ]
  },
  {
   "cell_type": "code",
   "execution_count": 45,
   "id": "582f9834",
   "metadata": {},
   "outputs": [],
   "source": [
    "base_errors = base_preds - diabetes_test_tgt\n",
    "sse_base_preds = np.dot(base_errors, base_errors)\n",
    "\n",
    "train_mean_errors = np.mean(diabetes_train_tgt) - diabetes_test_tgt\n",
    "sse_mean_train = np.dot(train_mean_errors, train_mean_errors)\n",
    "\n",
    "test_mean_errors = np.mean(diabetes_test_tgt) - diabetes_test_tgt\n",
    "sse_mean_test = np.dot(test_mean_errors, test_mean_errors)"
   ]
  },
  {
   "cell_type": "code",
   "execution_count": 46,
   "id": "f14c8537",
   "metadata": {},
   "outputs": [
    {
     "data": {
      "text/plain": [
       "1.0140167234905788"
      ]
     },
     "execution_count": 46,
     "metadata": {},
     "output_type": "execute_result"
    }
   ],
   "source": [
    "(sse_base_preds / sse_mean_test)"
   ]
  },
  {
   "cell_type": "code",
   "execution_count": 47,
   "id": "6c818bd1",
   "metadata": {},
   "outputs": [
    {
     "name": "stdout",
     "output_type": "stream",
     "text": [
      "-0.014016723490579253\n",
      "-0.014016723490578809\n"
     ]
    }
   ],
   "source": [
    "print(base_r2_skylearn)\n",
    "print(1 - (sse_base_preds / sse_mean_test))"
   ]
  },
  {
   "cell_type": "code",
   "execution_count": 50,
   "id": "873dbc5f",
   "metadata": {},
   "outputs": [
    {
     "name": "stdout",
     "output_type": "stream",
     "text": [
      "5529.689797906013\n"
     ]
    },
    {
     "data": {
      "text/html": [
       "<div>\n",
       "<style scoped>\n",
       "    .dataframe tbody tr th:only-of-type {\n",
       "        vertical-align: middle;\n",
       "    }\n",
       "\n",
       "    .dataframe tbody tr th {\n",
       "        vertical-align: top;\n",
       "    }\n",
       "\n",
       "    .dataframe thead th {\n",
       "        text-align: right;\n",
       "    }\n",
       "</style>\n",
       "<table border=\"1\" class=\"dataframe\">\n",
       "  <thead>\n",
       "    <tr style=\"text-align: right;\">\n",
       "      <th></th>\n",
       "      <th>R^2</th>\n",
       "      <th>MSE</th>\n",
       "      <th>Norm_MSE</th>\n",
       "      <th>1-R^2</th>\n",
       "    </tr>\n",
       "  </thead>\n",
       "  <tbody>\n",
       "    <tr>\n",
       "      <th>KNeighborsRegressor</th>\n",
       "      <td>0.372222</td>\n",
       "      <td>3471.419419</td>\n",
       "      <td>0.627778</td>\n",
       "      <td>0.627778</td>\n",
       "    </tr>\n",
       "    <tr>\n",
       "      <th>LinearRegression</th>\n",
       "      <td>0.484909</td>\n",
       "      <td>2848.295308</td>\n",
       "      <td>0.515091</td>\n",
       "      <td>0.515091</td>\n",
       "    </tr>\n",
       "  </tbody>\n",
       "</table>\n",
       "</div>"
      ],
      "text/plain": [
       "                          R^2          MSE  Norm_MSE     1-R^2\n",
       "KNeighborsRegressor  0.372222  3471.419419  0.627778  0.627778\n",
       "LinearRegression     0.484909  2848.295308  0.515091  0.515091"
      ]
     },
     "metadata": {},
     "output_type": "display_data"
    }
   ],
   "source": [
    "def get_model_name(model):\n",
    "    return model.__class__.__name__\n",
    "\n",
    "testbase = DummyRegressor(strategy='mean')\n",
    "testbase.fit(diabetes_test_ftrs, diabetes_test_tgt)\n",
    "testbase_preds = testbase.predict(diabetes_test_ftrs)\n",
    "testbase_mse = metrics.mean_squared_error(testbase_preds, diabetes_test_tgt)\n",
    "\n",
    "models = [neighbors.KNeighborsRegressor(n_neighbors=3),\n",
    "          linear_model.LinearRegression()]\n",
    "\n",
    "results = dict()\n",
    "for m in models:\n",
    "    preds = m.fit(diabetes_train_ftrs, diabetes_train_tgt).predict(diabetes_test_ftrs)\n",
    "    mse = metrics.mean_squared_error(preds, diabetes_test_tgt)\n",
    "    r2 = metrics.r2_score(diabetes_test_tgt, preds)\n",
    "    results[get_model_name(m)] = {'R^2': r2, 'MSE': mse}\n",
    "\n",
    "print(testbase_mse)\n",
    "df = pd.DataFrame(results).T\n",
    "df['Norm_MSE'] = df['MSE'] / testbase_mse\n",
    "df['1-R^2'] = 1 - df['R^2']\n",
    "display(df)"
   ]
  },
  {
   "cell_type": "code",
   "execution_count": 51,
   "id": "5c91c0eb",
   "metadata": {},
   "outputs": [
    {
     "data": {
      "text/html": [
       "<div>\n",
       "<style scoped>\n",
       "    .dataframe tbody tr th:only-of-type {\n",
       "        vertical-align: middle;\n",
       "    }\n",
       "\n",
       "    .dataframe tbody tr th {\n",
       "        vertical-align: top;\n",
       "    }\n",
       "\n",
       "    .dataframe thead th {\n",
       "        text-align: right;\n",
       "    }\n",
       "</style>\n",
       "<table border=\"1\" class=\"dataframe\">\n",
       "  <thead>\n",
       "    <tr style=\"text-align: right;\">\n",
       "      <th></th>\n",
       "      <th>predicted</th>\n",
       "      <th>actual</th>\n",
       "      <th>error</th>\n",
       "    </tr>\n",
       "    <tr>\n",
       "      <th>example</th>\n",
       "      <th></th>\n",
       "      <th></th>\n",
       "      <th></th>\n",
       "    </tr>\n",
       "  </thead>\n",
       "  <tbody>\n",
       "    <tr>\n",
       "      <th>0</th>\n",
       "      <td>4</td>\n",
       "      <td>3</td>\n",
       "      <td>1</td>\n",
       "    </tr>\n",
       "    <tr>\n",
       "      <th>1</th>\n",
       "      <td>2</td>\n",
       "      <td>5</td>\n",
       "      <td>-3</td>\n",
       "    </tr>\n",
       "    <tr>\n",
       "      <th>2</th>\n",
       "      <td>9</td>\n",
       "      <td>7</td>\n",
       "      <td>2</td>\n",
       "    </tr>\n",
       "  </tbody>\n",
       "</table>\n",
       "</div>"
      ],
      "text/plain": [
       "         predicted  actual  error\n",
       "example                          \n",
       "0                4       3      1\n",
       "1                2       5     -3\n",
       "2                9       7      2"
      ]
     },
     "metadata": {},
     "output_type": "display_data"
    }
   ],
   "source": [
    "ape_df = pd.DataFrame({'predicted' : [4, 2, 9],\n",
    "                       'actual'    : [3, 5, 7]})\n",
    "\n",
    "ape_df['error'] = ape_df['predicted'] - ape_df['actual']\n",
    "\n",
    "ape_df.index.name = 'example'\n",
    "display(ape_df)"
   ]
  },
  {
   "cell_type": "code",
   "execution_count": 54,
   "id": "40d7fc5a",
   "metadata": {},
   "outputs": [
    {
     "data": {
      "image/png": "[encoded data removed]",
      "text/plain": [
       "<Figure size 600x300 with 2 Axes>"
      ]
     },
     "metadata": {},
     "output_type": "display_data"
    }
   ],
   "source": [
    "def regression_errors(figsize, predicted, actual, errors='all'):\n",
    "    fig, axes = plt.subplots(1,2, figsize=figsize, sharex=True, sharey=True)\n",
    "    df = pd.DataFrame({'actual':actual, 'predicted':predicted})\n",
    "    \n",
    "    for ax, (x,y) in zip(axes, it.permutations(['actual', 'predicted'])):\n",
    "        ax.plot(df[x], df[y], '.', label='data')\n",
    "        ax.plot(df['actual'], df['actual'], '-', label='perfection')\n",
    "        ax.legend()\n",
    "        ax.set_xlabel('{} Value'.format(x.capitalize()))\n",
    "        ax.set_ylabel('{} Value'.format(y.capitalize()))\n",
    "        ax.set_aspect('equal')\n",
    "    \n",
    "    axes[1].yaxis.tick_right()\n",
    "    axes[1].yaxis.set_label_position(\"right\")\n",
    "    \n",
    "    if errors == 'all':\n",
    "        errors = range(len(df))\n",
    "        \n",
    "    if errors:\n",
    "        acts = df.actual.iloc[errors]\n",
    "        preds = df.predicted.iloc[errors]\n",
    "        axes[0].vlines(acts, preds, acts, 'r')\n",
    "        axes[1].hlines(acts, preds, acts, 'r')\n",
    "\n",
    "regression_errors((6,3), ape_df.predicted, ape_df.actual)"
   ]
  },
  {
   "cell_type": "code",
   "execution_count": 55,
   "id": "e76638cd",
   "metadata": {},
   "outputs": [
    {
     "data": {
      "image/png": "[encoded data removed]",
      "text/plain": [
       "<Figure size 800x400 with 2 Axes>"
      ]
     },
     "metadata": {},
     "output_type": "display_data"
    }
   ],
   "source": [
    "lr  = linear_model.LinearRegression()\n",
    "preds = (lr.fit(diabetes_train_ftrs, diabetes_train_tgt)\n",
    "           .predict(diabetes_test_ftrs))\n",
    "\n",
    "regression_errors((8,4), preds, diabetes_test_tgt, errors=[-20]) "
   ]
  },
  {
   "cell_type": "code",
   "execution_count": 56,
   "id": "84aaa055",
   "metadata": {},
   "outputs": [
    {
     "data": {
      "text/html": [
       "<div>\n",
       "<style scoped>\n",
       "    .dataframe tbody tr th:only-of-type {\n",
       "        vertical-align: middle;\n",
       "    }\n",
       "\n",
       "    .dataframe tbody tr th {\n",
       "        vertical-align: top;\n",
       "    }\n",
       "\n",
       "    .dataframe thead th {\n",
       "        text-align: right;\n",
       "    }\n",
       "</style>\n",
       "<table border=\"1\" class=\"dataframe\">\n",
       "  <thead>\n",
       "    <tr style=\"text-align: right;\">\n",
       "      <th></th>\n",
       "      <th>predicted</th>\n",
       "      <th>actual</th>\n",
       "      <th>error</th>\n",
       "      <th>resid</th>\n",
       "    </tr>\n",
       "    <tr>\n",
       "      <th>example</th>\n",
       "      <th></th>\n",
       "      <th></th>\n",
       "      <th></th>\n",
       "      <th></th>\n",
       "    </tr>\n",
       "  </thead>\n",
       "  <tbody>\n",
       "    <tr>\n",
       "      <th>0</th>\n",
       "      <td>4</td>\n",
       "      <td>3</td>\n",
       "      <td>1</td>\n",
       "      <td>-1</td>\n",
       "    </tr>\n",
       "    <tr>\n",
       "      <th>1</th>\n",
       "      <td>2</td>\n",
       "      <td>5</td>\n",
       "      <td>-3</td>\n",
       "      <td>3</td>\n",
       "    </tr>\n",
       "    <tr>\n",
       "      <th>2</th>\n",
       "      <td>9</td>\n",
       "      <td>7</td>\n",
       "      <td>2</td>\n",
       "      <td>-2</td>\n",
       "    </tr>\n",
       "  </tbody>\n",
       "</table>\n",
       "</div>"
      ],
      "text/plain": [
       "         predicted  actual  error  resid\n",
       "example                                 \n",
       "0                4       3      1     -1\n",
       "1                2       5     -3      3\n",
       "2                9       7      2     -2"
      ]
     },
     "metadata": {},
     "output_type": "display_data"
    }
   ],
   "source": [
    "ape_df = pd.DataFrame({'predicted' : [4, 2, 9],\n",
    "                       'actual'    : [3, 5, 7]})\n",
    "\n",
    "ape_df['error'] = ape_df['predicted'] - ape_df['actual']\n",
    "ape_df['resid'] = ape_df['actual'] - ape_df['predicted']\n",
    "\n",
    "ape_df.index.name = 'example'\n",
    "display(ape_df)"
   ]
  },
  {
   "cell_type": "code",
   "execution_count": 58,
   "id": "b06af341",
   "metadata": {},
   "outputs": [
    {
     "data": {
      "image/png": "[encoded data removed]",
      "text/plain": [
       "<Figure size 800x400 with 2 Axes>"
      ]
     },
     "metadata": {},
     "output_type": "display_data"
    }
   ],
   "source": [
    "def regression_residuals(ax, predicted, actual, show_errors=None, right=False):\n",
    "    df = pd.DataFrame({'actual': actual, 'predicted': predicted})\n",
    "    df['error'] = df.actual - df.predicted\n",
    "    ax.plot(df.predicted, df.error, '.')\n",
    "    ax.plot(df.predicted, np.zeros_like(predicted), '-')\n",
    "\n",
    "    if right:\n",
    "        ax.yaxis.tick_right()\n",
    "        ax.yaxis.set_label_position(\"right\")\n",
    "        ax.set_xlabel('Predicted Value')\n",
    "        ax.set_ylabel('Residual')\n",
    "\n",
    "        if show_errors == 'all':\n",
    "            show_errors = range(len(df))\n",
    "        if show_errors:\n",
    "            preds = df.predicted.iloc[show_errors]\n",
    "            errors = df.error.iloc[show_errors]\n",
    "            ax.vlines(preds, 0, errors, 'r')\n",
    "\n",
    "fig, (ax1, ax2) = plt.subplots(1, 2, figsize=(8, 4))\n",
    "\n",
    "ax1.plot(ape_df.predicted, ape_df.actual, 'r', [0, 10], [0, 10], 'b-')\n",
    "ax1.set_xlabel('Predicted')\n",
    "ax1.set_ylabel('Actual')\n",
    "regression_residuals(ax2, ape_df.predicted, ape_df.actual, 'all', right=True)"
   ]
  },
  {
   "cell_type": "code",
   "execution_count": 59,
   "id": "e17b41b8",
   "metadata": {},
   "outputs": [
    {
     "data": {
      "image/png": "[encoded data removed]",
      "text/plain": [
       "<Figure size 1000x500 with 2 Axes>"
      ]
     },
     "metadata": {},
     "output_type": "display_data"
    }
   ],
   "source": [
    "lr  = linear_model.LinearRegression()\n",
    "knn = neighbors.KNeighborsRegressor()\n",
    "\n",
    "models = [lr, knn]\n",
    "\n",
    "fig, axes = plt.subplots(1, 2, figsize=(10,5), \n",
    "                         sharex=True, sharey=True)\n",
    "fig.tight_layout()\n",
    "\n",
    "for model, ax, on_right in zip(models, axes, [False, True]):\n",
    "    preds = (model.fit(diabetes_train_ftrs, diabetes_train_tgt)\n",
    "                  .predict(diabetes_test_ftrs))\n",
    "    \n",
    "    regression_residuals(ax, preds, diabetes_test_tgt, [-20], on_right)\n",
    "\n",
    "axes[0].set_title('Linear Regression Residuals')\n",
    "axes[1].set_title('kNN-Regressor Rediduals');"
   ]
  },
  {
   "cell_type": "code",
   "execution_count": 60,
   "id": "9d5b9dd1",
   "metadata": {},
   "outputs": [
    {
     "name": "stdout",
     "output_type": "stream",
     "text": [
      "280.0\n"
     ]
    }
   ],
   "source": [
    "print(diabetes_test_tgt[-20])"
   ]
  },
  {
   "cell_type": "code",
   "execution_count": 61,
   "id": "ea0fe9a7",
   "metadata": {},
   "outputs": [
    {
     "data": {
      "text/html": [
       "<div>\n",
       "<style scoped>\n",
       "    .dataframe tbody tr th:only-of-type {\n",
       "        vertical-align: middle;\n",
       "    }\n",
       "\n",
       "    .dataframe tbody tr th {\n",
       "        vertical-align: top;\n",
       "    }\n",
       "\n",
       "    .dataframe thead th {\n",
       "        text-align: right;\n",
       "    }\n",
       "</style>\n",
       "<table border=\"1\" class=\"dataframe\">\n",
       "  <thead>\n",
       "    <tr style=\"text-align: right;\">\n",
       "      <th></th>\n",
       "      <th>x</th>\n",
       "      <th>std-ized</th>\n",
       "    </tr>\n",
       "  </thead>\n",
       "  <tbody>\n",
       "    <tr>\n",
       "      <th>mean</th>\n",
       "      <td>2.500000</td>\n",
       "      <td>6.661338e-17</td>\n",
       "    </tr>\n",
       "    <tr>\n",
       "      <th>std</th>\n",
       "      <td>4.670589</td>\n",
       "      <td>1.000000e+00</td>\n",
       "    </tr>\n",
       "  </tbody>\n",
       "</table>\n",
       "</div>"
      ],
      "text/plain": [
       "             x      std-ized\n",
       "mean  2.500000  6.661338e-17\n",
       "std   4.670589  1.000000e+00"
      ]
     },
     "metadata": {},
     "output_type": "display_data"
    },
    {
     "data": {
      "image/png": "[encoded data removed]",
      "text/plain": [
       "<Figure size 300x300 with 1 Axes>"
      ]
     },
     "metadata": {},
     "output_type": "display_data"
    }
   ],
   "source": [
    "xs = np.linspace(-5, 10, 20)\n",
    "df = pd.DataFrame(xs, columns=['x'])\n",
    "\n",
    "df['std-ized'] = (df.x - df.x.mean()) / df.x.std()\n",
    "\n",
    "fig, ax = plt.subplots(1,1,figsize=(3,3))\n",
    "sns.stripplot(data=df)\n",
    "display(df.describe().loc[['mean', 'std']])"
   ]
  },
  {
   "cell_type": "code",
   "execution_count": 62,
   "id": "199fc962",
   "metadata": {},
   "outputs": [
    {
     "name": "stdout",
     "output_type": "stream",
     "text": [
      "First Row Values\n"
     ]
    },
    {
     "data": {
      "text/html": [
       "<div>\n",
       "<style scoped>\n",
       "    .dataframe tbody tr th:only-of-type {\n",
       "        vertical-align: middle;\n",
       "    }\n",
       "\n",
       "    .dataframe tbody tr th {\n",
       "        vertical-align: top;\n",
       "    }\n",
       "\n",
       "    .dataframe thead th {\n",
       "        text-align: right;\n",
       "    }\n",
       "</style>\n",
       "<table border=\"1\" class=\"dataframe\">\n",
       "  <thead>\n",
       "    <tr style=\"text-align: right;\">\n",
       "      <th></th>\n",
       "      <th>x</th>\n",
       "      <th>y</th>\n",
       "    </tr>\n",
       "  </thead>\n",
       "  <tbody>\n",
       "    <tr>\n",
       "      <th>0</th>\n",
       "      <td>-5.000000</td>\n",
       "      <td>12.086097</td>\n",
       "    </tr>\n",
       "    <tr>\n",
       "      <th>1</th>\n",
       "      <td>-4.210526</td>\n",
       "      <td>23.230352</td>\n",
       "    </tr>\n",
       "    <tr>\n",
       "      <th>2</th>\n",
       "      <td>-3.421053</td>\n",
       "      <td>21.915013</td>\n",
       "    </tr>\n",
       "    <tr>\n",
       "      <th>3</th>\n",
       "      <td>-2.631579</td>\n",
       "      <td>15.983580</td>\n",
       "    </tr>\n",
       "    <tr>\n",
       "      <th>4</th>\n",
       "      <td>-1.842105</td>\n",
       "      <td>22.757979</td>\n",
       "    </tr>\n",
       "  </tbody>\n",
       "</table>\n",
       "</div>"
      ],
      "text/plain": [
       "          x          y\n",
       "0 -5.000000  12.086097\n",
       "1 -4.210526  23.230352\n",
       "2 -3.421053  21.915013\n",
       "3 -2.631579  15.983580\n",
       "4 -1.842105  22.757979"
      ]
     },
     "metadata": {},
     "output_type": "display_data"
    },
    {
     "name": "stdout",
     "output_type": "stream",
     "text": [
      "Standardized\n"
     ]
    },
    {
     "data": {
      "text/html": [
       "<div>\n",
       "<style scoped>\n",
       "    .dataframe tbody tr th:only-of-type {\n",
       "        vertical-align: middle;\n",
       "    }\n",
       "\n",
       "    .dataframe tbody tr th {\n",
       "        vertical-align: top;\n",
       "    }\n",
       "\n",
       "    .dataframe thead th {\n",
       "        text-align: right;\n",
       "    }\n",
       "</style>\n",
       "<table border=\"1\" class=\"dataframe\">\n",
       "  <thead>\n",
       "    <tr style=\"text-align: right;\">\n",
       "      <th></th>\n",
       "      <th>x</th>\n",
       "      <th>y</th>\n",
       "    </tr>\n",
       "  </thead>\n",
       "  <tbody>\n",
       "    <tr>\n",
       "      <th>mean</th>\n",
       "      <td>6.661338e-17</td>\n",
       "      <td>-3.552714e-16</td>\n",
       "    </tr>\n",
       "    <tr>\n",
       "      <th>std</th>\n",
       "      <td>1.000000e+00</td>\n",
       "      <td>1.000000e+00</td>\n",
       "    </tr>\n",
       "  </tbody>\n",
       "</table>\n",
       "</div>"
      ],
      "text/plain": [
       "                 x             y\n",
       "mean  6.661338e-17 -3.552714e-16\n",
       "std   1.000000e+00  1.000000e+00"
      ]
     },
     "metadata": {},
     "output_type": "display_data"
    }
   ],
   "source": [
    "xs = np.linspace(-5, 10, 20)\n",
    "ys = 3*xs + 2 + np.random.uniform(20, 40, 20)\n",
    "\n",
    "print(\"First Row Values\")\n",
    "df = pd.DataFrame({'x':xs, 'y':ys})\n",
    "display(df.head())\n",
    "\n",
    "print(\"Standardized\")\n",
    "df_std_ized = (df - df.mean()) / df.std()\n",
    "display(df_std_ized.describe().loc[['mean', 'std']])"
   ]
  },
  {
   "cell_type": "code",
   "execution_count": 63,
   "id": "eba082b8",
   "metadata": {},
   "outputs": [
    {
     "data": {
      "image/png": "[encoded data removed]",
      "text/plain": [
       "<Figure size 500x500 with 4 Axes>"
      ]
     },
     "metadata": {},
     "output_type": "display_data"
    }
   ],
   "source": [
    "fig, ax = plt.subplots(2,2, figsize=(5,5))\n",
    "\n",
    "ax[0,0].plot(df.x, df.y, '.')\n",
    "ax[0,1].plot(df_std_ized.x, df_std_ized.y, '.')\n",
    "ax[0,0].set_ylabel('\"Natural\" Scale')\n",
    "\n",
    "ax[1,0].plot(df.x, df.y, '.')\n",
    "ax[1,1].plot(df_std_ized.x, df_std_ized.y, '.')\n",
    "\n",
    "ax[1,0].axis([-10, 50, -10, 50])\n",
    "ax[1,1].axis([-10, 50, -10, 50])\n",
    "\n",
    "ax[1,0].set_ylabel('Fixed/Shared Scale')\n",
    "ax[1,0].set_xlabel('Original Data')\n",
    "ax[1,1].set_xlabel('Standardized Data');"
   ]
  },
  {
   "cell_type": "code",
   "execution_count": 64,
   "id": "6d45ad48",
   "metadata": {},
   "outputs": [
    {
     "data": {
      "text/plain": [
       "array([[ 1.25899617],\n",
       "       [-0.39757774],\n",
       "       [ 0.92768139],\n",
       "       [-0.89454991],\n",
       "       [-1.0602073 ],\n",
       "       [-1.22586469],\n",
       "       [-0.56323513],\n",
       "       [-0.23192035],\n",
       "       [ 0.59636661],\n",
       "       [-1.39152208]])"
      ]
     },
     "execution_count": 64,
     "metadata": {},
     "output_type": "execute_result"
    }
   ],
   "source": [
    "train_xs, test_xs = skms.train_test_split(xs.reshape(-1,1), test_size=.5)\n",
    "\n",
    "scaler = skpre.StandardScaler()\n",
    "scaler.fit(train_xs).transform(test_xs)"
   ]
  },
  {
   "cell_type": "code",
   "execution_count": 65,
   "id": "bc5a4e95",
   "metadata": {},
   "outputs": [
    {
     "data": {
      "text/plain": [
       "array([[41.04208061],\n",
       "       [58.14478409],\n",
       "       [60.58802744],\n",
       "       [26.38262048],\n",
       "       [19.05289042],\n",
       "       [21.49613377],\n",
       "       [45.92856732],\n",
       "       [38.59883726],\n",
       "       [55.70154074],\n",
       "       [50.81505403]])"
      ]
     },
     "execution_count": 65,
     "metadata": {},
     "output_type": "execute_result"
    }
   ],
   "source": [
    "(train_xs, test_xs,\n",
    " train_ys, test_ys)= skms.train_test_split(xs.reshape(-1,1), \n",
    "                                           ys.reshape(-1,1),\n",
    "                                           test_size=.5)\n",
    "\n",
    "scaler = skpre.StandardScaler()\n",
    "lr  = linear_model.LinearRegression()\n",
    "\n",
    "std_lr_pipe  = pipeline.make_pipeline(scaler, lr)\n",
    "\n",
    "std_lr_pipe.fit(train_xs, train_ys).predict(test_xs)"
   ]
  }
 ],
 "metadata": {
  "kernelspec": {
   "display_name": "Python 3 (ipykernel)",
   "language": "python",
   "name": "python3"
  },
  "language_info": {
   "codemirror_mode": {
    "name": "ipython",
    "version": 3
   },
   "file_extension": ".py",
   "mimetype": "text/x-python",
   "name": "python",
   "nbconvert_exporter": "python",
   "pygments_lexer": "ipython3",
   "version": "3.9.13"
  }
 },
 "nbformat": 4,
 "nbformat_minor": 5
}
